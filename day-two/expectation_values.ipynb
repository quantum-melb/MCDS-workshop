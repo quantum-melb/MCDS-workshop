{
 "cells": [
  {
   "cell_type": "markdown",
   "id": "e141588b",
   "metadata": {},
   "source": [
    "# Measuring Expectation Values\n",
    "\n",
    "One of the most important tasks on in quantum mechanics is measuring an expectation value. Quantum mechanics is not determistic, it only tells us the **probabilities** of having different outcomes. Each different run of a experiment may give a different result.\n",
    "\n",
    "If we, for example, were in the state:\n",
    "$$ |\\phi \\rangle = \\frac{|0\\rangle + |1\\rangle}{\\sqrt{2}} $$\n",
    "then the probability of measuring \"0\" would be\n",
    "$$ P_0 = |a_0|^2 = \\left(\\frac{1}{\\sqrt{2}}\\right)^2 = \\frac{1}{2} $$\n",
    "and the probability of measuring the state \"1\" would be\n",
    "$$ P_1 = |a_1|^2 = \\left(\\frac{1}{\\sqrt{2}}\\right)^2 = \\frac{1}{2} $$"
   ]
  },
  {
   "cell_type": "markdown",
   "id": "949b1f48",
   "metadata": {},
   "source": [
    "## Observables\n",
    "\n",
    "In quantum mechanics, we often assocatate states with different values. For example, a particular state might have an energy, or a postion or a particular momentum. These values, which we call \"observables\" correspond to the **eigenvalues** of a matrix.\n",
    "\n",
    "For example, consider the matrix \"Z\":\n",
    "\n",
    "$$ Z = \\left[ \\begin{matrix} 1 & 0 \\\\ 0 & -1 \\end{matrix} \\right]$$\n",
    "\n",
    "It has two eigenvalues, \n",
    "\n",
    "  - $+1$ which is associated with the $|0\\rangle$ eigenstate.\n",
    "\n",
    "  - $-1$ which is associated with the $|1\\rangle$ eigenstate.\n",
    "\n",
    "So if we are measuring \"Z\" then we associate measuring $|0\\rangle$ with a value of $+1$, and measuring $|1\\rangle$ with a value of $-1$."
   ]
  },
  {
   "cell_type": "markdown",
   "id": "8057f86c",
   "metadata": {},
   "source": [
    "# Expectation Values\n",
    "\n",
    "Often we want to know about the mean value, or expecation value of an observable. For example, we may wish to know the expectation value of $Z$. We write this as $ \\langle Z \\rangle $.\n",
    "\n",
    "In the case above, the expectation value is:\n",
    "\n",
    "$$ \\langle Z \\rangle = P_0 \\times (+1) + P_1 \\times (-1) \\\\\n",
    "= \\frac{1}{2} - \\frac{1}{2} \\\\\n",
    "= 0 $$"
   ]
  },
  {
   "cell_type": "markdown",
   "id": "2b53a1cd",
   "metadata": {},
   "source": [
    "For a general state $|\\psi\\rangle$ the expectation of an operator, $A$ is given by\n",
    "$$ \\langle A \\rangle = \\langle \\psi | A | \\psi \\rangle $$"
   ]
  },
  {
   "cell_type": "markdown",
   "id": "3e6d3153",
   "metadata": {},
   "source": [
    "## Measuring on a quantum computer\n",
    "\n",
    "Let us now determine an expectation value of $\\langle Z \\rangle$ on a quantum computer. We will do this by deterimining the probabilities, $P_0$ and $P_1$ using a quantum computer and the calculate the expectation value as above.\n",
    "\n",
    "To create an equal superposition we will use a single Hadamard gate."
   ]
  },
  {
   "cell_type": "markdown",
   "id": "b0b1238e",
   "metadata": {},
   "source": [
    "As before, set up a real device as a backend."
   ]
  },
  {
   "cell_type": "code",
   "execution_count": 38,
   "id": "03a8acbc",
   "metadata": {},
   "outputs": [],
   "source": [
    "import numpy as np\n",
    "from qiskit import *"
   ]
  },
  {
   "cell_type": "code",
   "execution_count": 39,
   "id": "920ede0c",
   "metadata": {},
   "outputs": [
    {
     "name": "stderr",
     "output_type": "stream",
     "text": [
      "ibmqfactory.load_account:WARNING:2021-12-05 23:54:18,418: Credentials are already in use. The existing account in the session will be replaced.\n"
     ]
    },
    {
     "data": {
      "text/plain": [
       "[<IBMQBackend('ibmq_santiago') from IBMQ(hub='ibm-q-melbourne', group='teaching', project='default')>,\n",
       " <IBMQBackend('ibmq_bogota') from IBMQ(hub='ibm-q-melbourne', group='teaching', project='default')>,\n",
       " <IBMQBackend('ibmq_lima') from IBMQ(hub='ibm-q-melbourne', group='teaching', project='default')>,\n",
       " <IBMQBackend('ibmq_belem') from IBMQ(hub='ibm-q-melbourne', group='teaching', project='default')>,\n",
       " <IBMQBackend('ibmq_quito') from IBMQ(hub='ibm-q-melbourne', group='teaching', project='default')>,\n",
       " <IBMQBackend('ibmq_manila') from IBMQ(hub='ibm-q-melbourne', group='teaching', project='default')>]"
      ]
     },
     "execution_count": 39,
     "metadata": {},
     "output_type": "execute_result"
    }
   ],
   "source": [
    "# Load your IBM Quantum account\n",
    "from qiskit import IBMQ\n",
    "IBMQ.load_account()\n",
    "provider = IBMQ.get_provider(hub='ibm-q-melbourne', group='teaching', project='default')\n",
    "\n",
    "# Select all operational devices with more than 2 qubits\n",
    "backends_sel = provider.backends(filters=lambda x:not x.configuration().simulator and \n",
    "                                x.configuration().n_qubits >=2 and x.status().operational==True)\n",
    "backends_sel"
   ]
  },
  {
   "cell_type": "code",
   "execution_count": 40,
   "id": "319e89eb",
   "metadata": {},
   "outputs": [
    {
     "data": {
      "text/plain": [
       "<IBMQBackend('ibmq_quito') from IBMQ(hub='ibm-q-melbourne', group='teaching', project='default')>"
      ]
     },
     "execution_count": 40,
     "metadata": {},
     "output_type": "execute_result"
    }
   ],
   "source": [
    "# Select the device with the shortest queue\n",
    "from qiskit.providers.ibmq import least_busy\n",
    "\n",
    "backend = least_busy(backends_sel)\n",
    "backend"
   ]
  },
  {
   "cell_type": "code",
   "execution_count": 41,
   "id": "062b94f3",
   "metadata": {},
   "outputs": [],
   "source": [
    "# Create a Quantum Circuit acting on a quantum register of one qubit\n",
    "circ = QuantumCircuit(1,1)"
   ]
  },
  {
   "cell_type": "code",
   "execution_count": 42,
   "id": "71517c3d",
   "metadata": {},
   "outputs": [
    {
     "data": {
      "text/plain": [
       "<qiskit.circuit.instructionset.InstructionSet at 0x13a8a1760>"
      ]
     },
     "execution_count": 42,
     "metadata": {},
     "output_type": "execute_result"
    }
   ],
   "source": [
    "circ.h(0)\n",
    "\n",
    "circ.measure(range(1), range(1))"
   ]
  },
  {
   "cell_type": "code",
   "execution_count": 43,
   "id": "46362ba3",
   "metadata": {},
   "outputs": [
    {
     "data": {
      "image/png": "[encoded data removed]",
      "text/plain": [
       "<Figure size 193.726x144.48 with 1 Axes>"
      ]
     },
     "execution_count": 43,
     "metadata": {},
     "output_type": "execute_result"
    }
   ],
   "source": [
    "circ.draw('mpl')"
   ]
  },
  {
   "cell_type": "markdown",
   "id": "63bfa28b",
   "metadata": {},
   "source": [
    "Now we will run the job on a the device"
   ]
  },
  {
   "cell_type": "code",
   "execution_count": 44,
   "id": "b6ed34c1",
   "metadata": {},
   "outputs": [
    {
     "name": "stdout",
     "output_type": "stream",
     "text": [
      "Job Status: job has successfully run\n"
     ]
    }
   ],
   "source": [
    "from qiskit.tools.monitor import job_monitor\n",
    "\n",
    "job = execute(circ, backend)\n",
    "job_monitor(job)"
   ]
  },
  {
   "cell_type": "code",
   "execution_count": 45,
   "id": "5c0ec66b",
   "metadata": {},
   "outputs": [
    {
     "data": {
      "image/png": "[encoded data removed]",
      "text/plain": [
       "<Figure size 504x360 with 1 Axes>"
      ]
     },
     "execution_count": 45,
     "metadata": {},
     "output_type": "execute_result"
    }
   ],
   "source": [
    "from qiskit.visualization import plot_histogram\n",
    "\n",
    "counts = job.result().get_counts()\n",
    "plot_histogram(counts)"
   ]
  },
  {
   "cell_type": "code",
   "execution_count": 46,
   "id": "eaba4818",
   "metadata": {},
   "outputs": [
    {
     "data": {
      "text/plain": [
       "{'0': 541, '1': 483}"
      ]
     },
     "execution_count": 46,
     "metadata": {},
     "output_type": "execute_result"
    }
   ],
   "source": [
    "counts"
   ]
  },
  {
   "cell_type": "code",
   "execution_count": 47,
   "id": "ed80d744",
   "metadata": {},
   "outputs": [
    {
     "data": {
      "text/plain": [
       "(0.5283203125, 0.4716796875)"
      ]
     },
     "execution_count": 47,
     "metadata": {},
     "output_type": "execute_result"
    }
   ],
   "source": [
    "P0 = counts['0']/sum(counts.values())\n",
    "P1 = counts['1']/sum(counts.values())\n",
    "\n",
    "P0, P1"
   ]
  },
  {
   "cell_type": "code",
   "execution_count": 48,
   "id": "a5cf6395",
   "metadata": {},
   "outputs": [],
   "source": [
    "expectation_Z = P0 * 1 + P1*(-1)"
   ]
  },
  {
   "cell_type": "code",
   "execution_count": 49,
   "id": "70de4d8c",
   "metadata": {},
   "outputs": [
    {
     "data": {
      "text/plain": [
       "0.056640625"
      ]
     },
     "execution_count": 49,
     "metadata": {},
     "output_type": "execute_result"
    }
   ],
   "source": [
    "expectation_Z"
   ]
  },
  {
   "cell_type": "markdown",
   "id": "1e08fd9a",
   "metadata": {},
   "source": [
    "Notice that this isn't exactly 0, as it would be in theory. This is because of a finite number of runs/shots, and also because of errors present in the machine."
   ]
  },
  {
   "cell_type": "markdown",
   "id": "86c56864",
   "metadata": {},
   "source": [
    "## Measuring in other bases"
   ]
  },
  {
   "cell_type": "markdown",
   "id": "1b608206",
   "metadata": {},
   "source": [
    "It is also possible to determine the expectation values of other observables. For example\n",
    "\n",
    "$$ X = \\left[ \\begin{array}{cc} 0 & 1 \\\\ 1 & 0 \\end{array}  \\right] $$\n",
    "\n",
    "or \n",
    "\n",
    "$$ Y = \\left[ \\begin{array}{cc} 0 & -i \\\\ i & 0 \\end{array}  \\right] $$\n",
    "\n",
    "These matrices have eigenvalues of $\\pm 1$, just like $Z$, however they have different basis of eigenstates."
   ]
  },
  {
   "cell_type": "markdown",
   "id": "90153644",
   "metadata": {},
   "source": [
    "Because measurement is naturally made in the computational/z-basis, a rotation is applied first to rotate into this basis. To measure $\\langle X \\rangle$, we first apply a hadamard gate, directly before measurement:"
   ]
  },
  {
   "cell_type": "code",
   "execution_count": 50,
   "id": "fccf642a",
   "metadata": {},
   "outputs": [
    {
     "data": {
      "text/plain": [
       "<qiskit.circuit.instructionset.InstructionSet at 0x137b0b7c0>"
      ]
     },
     "execution_count": 50,
     "metadata": {},
     "output_type": "execute_result"
    }
   ],
   "source": [
    "qc = QuantumCircuit(1, 1)\n",
    "\n",
    "# .... set up the state you want to measure here...\n",
    "\n",
    "qc.barrier()\n",
    "\n",
    "qc.h(0) # This hadamard gate changes the basis of the measurement\n",
    "qc.measure(range(1), range(1))"
   ]
  },
  {
   "cell_type": "code",
   "execution_count": 51,
   "id": "855eef08",
   "metadata": {},
   "outputs": [
    {
     "data": {
      "image/png": "[encoded data removed]",
      "text/plain": [
       "<Figure size 253.926x144.48 with 1 Axes>"
      ]
     },
     "execution_count": 51,
     "metadata": {},
     "output_type": "execute_result"
    }
   ],
   "source": [
    "qc.draw('mpl')"
   ]
  },
  {
   "cell_type": "markdown",
   "id": "b42c0904",
   "metadata": {},
   "source": [
    "Let's find $\\langle X \\rangle$ for the equal superposition state, which we created above."
   ]
  },
  {
   "cell_type": "code",
   "execution_count": 66,
   "id": "26192031",
   "metadata": {},
   "outputs": [
    {
     "data": {
      "text/plain": [
       "<qiskit.circuit.instructionset.InstructionSet at 0x13b592250>"
      ]
     },
     "execution_count": 66,
     "metadata": {},
     "output_type": "execute_result"
    }
   ],
   "source": [
    "qc = QuantumCircuit(1, 1)\n",
    "\n",
    "# .... set up the state you want to measure here...\n",
    "qc.h(0)\n",
    "\n",
    "\n",
    "qc.barrier()\n",
    "\n",
    "qc.h(0) # This hadamard gate changes the basis of the measurement for an X-measurement\n",
    "qc.measure(range(1), range(1))"
   ]
  },
  {
   "cell_type": "code",
   "execution_count": 58,
   "id": "2292200c",
   "metadata": {},
   "outputs": [
    {
     "data": {
      "image/png": "[encoded data removed]",
      "text/plain": [
       "<Figure size 314.126x144.48 with 1 Axes>"
      ]
     },
     "execution_count": 58,
     "metadata": {},
     "output_type": "execute_result"
    }
   ],
   "source": [
    "qc.draw('mpl')"
   ]
  },
  {
   "cell_type": "markdown",
   "id": "fc9350a8",
   "metadata": {},
   "source": [
    "Here the first Hadamard gate initialises the state. The second changes basis, so that we measure $\\langle X \\rangle$ rather than $\\langle Z \\rangle$."
   ]
  },
  {
   "cell_type": "code",
   "execution_count": 59,
   "id": "7e5e9e91",
   "metadata": {},
   "outputs": [
    {
     "name": "stdout",
     "output_type": "stream",
     "text": [
      "Job Status: job has successfully run\n"
     ]
    }
   ],
   "source": [
    "job = execute(qc, backend)\n",
    "job_monitor(job)"
   ]
  },
  {
   "cell_type": "code",
   "execution_count": 60,
   "id": "b1328f96",
   "metadata": {},
   "outputs": [
    {
     "data": {
      "image/png": "[encoded data removed]",
      "text/plain": [
       "<Figure size 504x360 with 1 Axes>"
      ]
     },
     "execution_count": 60,
     "metadata": {},
     "output_type": "execute_result"
    }
   ],
   "source": [
    "counts = job.result().get_counts()\n",
    "plot_histogram(counts)"
   ]
  },
  {
   "cell_type": "code",
   "execution_count": 61,
   "id": "3c0ba2c4",
   "metadata": {},
   "outputs": [
    {
     "data": {
      "text/plain": [
       "(0.9814453125, 0.0185546875)"
      ]
     },
     "execution_count": 61,
     "metadata": {},
     "output_type": "execute_result"
    }
   ],
   "source": [
    "P0 = counts['0']/sum(counts.values())\n",
    "P1 = counts['1']/sum(counts.values())\n",
    "\n",
    "P0, P1"
   ]
  },
  {
   "cell_type": "markdown",
   "id": "8237c395",
   "metadata": {},
   "source": [
    "As before we have,"
   ]
  },
  {
   "cell_type": "code",
   "execution_count": 62,
   "id": "4d9d4acb",
   "metadata": {},
   "outputs": [
    {
     "data": {
      "text/plain": [
       "0.962890625"
      ]
     },
     "execution_count": 62,
     "metadata": {},
     "output_type": "execute_result"
    }
   ],
   "source": [
    "expectation_X = P0 * 1 + P1*(-1)\n",
    "expectation_X"
   ]
  },
  {
   "cell_type": "markdown",
   "id": "6d336f46",
   "metadata": {},
   "source": [
    "Similarly, we can find $\\langle Y \\rangle$ by rotating basis with $H S^\\dagger$:"
   ]
  },
  {
   "cell_type": "code",
   "execution_count": 65,
   "id": "705878e8",
   "metadata": {},
   "outputs": [
    {
     "data": {
      "text/plain": [
       "<qiskit.circuit.instructionset.InstructionSet at 0x13b8a78b0>"
      ]
     },
     "execution_count": 65,
     "metadata": {},
     "output_type": "execute_result"
    }
   ],
   "source": [
    "qc = QuantumCircuit(1, 1)\n",
    "\n",
    "# .... set up the state you want to measure here...\n",
    "\n",
    "qc.barrier()\n",
    "\n",
    "qc.sdg(0) # The following two gates change the basis to give a Y-measurement \n",
    "qc.h(0)\n",
    "qc.measure(range(1), range(1))"
   ]
  },
  {
   "cell_type": "markdown",
   "id": "4d4af829",
   "metadata": {},
   "source": [
    "<div class=\"alert alert-block alert-success\">\n",
    "\n",
    "**Exercise**\n",
    "\n",
    "Using the circuit above, determine $\\langle Y \\rangle$ for the equal superposition state using a quantum computer.\n",
    "    \n",
    "</div>"
   ]
  },
  {
   "cell_type": "markdown",
   "id": "c42f686b",
   "metadata": {},
   "source": [
    "<div class=\"alert alert-block alert-info\">\n",
    "<b>Aside:</b> If you plot a point with co-ordinates ($\\langle X \\rangle$, $\\langle Y \\rangle$, $\\langle Z \\rangle$) without noise these lie on a sphere, the \"Bloch Sphere\" - as we saw yesterday. With noise, these points can often lie inside the sphere - the more noisy the quantum computer, the closer to the origin they lie.\n",
    "</div>"
   ]
  },
  {
   "cell_type": "markdown",
   "id": "f49508b8",
   "metadata": {},
   "source": [
    "<div class=\"alert alert-block alert-success\">\n",
    "\n",
    "**Exercise**\n",
    "\n",
    "Using a quantum computer, determine $\\langle X \\rangle$, $\\langle Y \\rangle$, and $\\langle Z \\rangle$ for the state you obtain by a rotation $R_y(\\pi/4)$ applied to the $|0\\rangle$ state.\n",
    "\n",
    "</div>"
   ]
  },
  {
   "cell_type": "markdown",
   "id": "284bb1c6",
   "metadata": {},
   "source": [
    "## Expecation values with more than one qubit"
   ]
  },
  {
   "cell_type": "markdown",
   "id": "524ef04b",
   "metadata": {},
   "source": [
    "If you have more than one qubit, you can have observable which are products. For example, the observable $Z_1 Z_2$, for the state $|ket{01}\\rangle has the value,\n",
    "\n",
    "$$+1 \\times -1 = -1$$\n",
    "\n",
    "In this case you would measure *both* qubits 1 and 2, and multiply the values you obtained from each individual qubit."
   ]
  },
  {
   "cell_type": "markdown",
   "id": "324b7f60",
   "metadata": {},
   "source": [
    "<div class=\"alert alert-block alert-success\">\n",
    "\n",
    "**Exercise**\n",
    "\n",
    "Using a quantum computer, determine $\\langle ZZ \\rangle$ for the state $\\frac{|00 \\rangle + |11 \\rangle}{\\sqrt{2}}$.\n",
    "\n",
    "</div>"
   ]
  },
  {
   "cell_type": "markdown",
   "id": "93919988",
   "metadata": {},
   "source": [
    "To measure in a different basis (for example, x-basis or y-basis), apply the same rotations as in the single qubit case before measuring. "
   ]
  },
  {
   "cell_type": "markdown",
   "id": "e3c3d180",
   "metadata": {},
   "source": [
    "<div class=\"alert alert-block alert-success\">\n",
    "\n",
    "**Exercise**\n",
    "\n",
    "Using a quantum computer, determine $\\langle XX \\rangle$ for the state $\\frac{|00 \\rangle + |11 \\rangle}{\\sqrt{2}}$.\n",
    "\n",
    "</div>"
   ]
  },
  {
   "cell_type": "code",
   "execution_count": null,
   "id": "a531da01",
   "metadata": {},
   "outputs": [],
   "source": []
  }
 ],
 "metadata": {
  "kernelspec": {
   "display_name": "Python 3 (ipykernel)",
   "language": "python",
   "name": "python3"
  },
  "language_info": {
   "codemirror_mode": {
    "name": "ipython",
    "version": 3
   },
   "file_extension": ".py",
   "mimetype": "text/x-python",
   "name": "python",
   "nbconvert_exporter": "python",
   "pygments_lexer": "ipython3",
   "version": "3.9.7"
  }
 },
 "nbformat": 4,
 "nbformat_minor": 5
}
